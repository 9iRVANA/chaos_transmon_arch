{
 "cells": [
  {
   "cell_type": "code",
   "execution_count": null,
   "id": "5bd7f63d",
   "metadata": {},
   "outputs": [],
   "source": [
    "from qutip import *\n",
    "from tqdm import tqdm\n",
    "%matplotlib inline\n",
    "import matplotlib as mpl\n",
    "mpl.rcParams['figure.dpi'] = 600\n",
    "import matplotlib.pyplot as plt\n",
    "import numpy as np\n",
    "import math"
   ]
  },
  {
   "cell_type": "code",
   "execution_count": null,
   "id": "4b8006c1",
   "metadata": {},
   "outputs": [],
   "source": [
    "from eigenfns import *\n",
    "from arch import *"
   ]
  },
  {
   "cell_type": "code",
   "execution_count": null,
   "id": "4f45d2fc",
   "metadata": {},
   "outputs": [],
   "source": [
    "#need to change couplings as required. \n",
    "t_matrix = 0 #default as that of transmon architecture\n",
    "#compare p of getting 0000...state for qubit vs transmons with same coupling.\n",
    "#start with maximally entangled state(initialize for both by applying H matrix on zero state) \n",
    "#and then reduce(?) superposition\n",
    "#Hp in arch, HD need to code."
   ]
  }
 ],
 "metadata": {
  "kernelspec": {
   "display_name": "Python 3",
   "language": "python",
   "name": "python3"
  },
  "language_info": {
   "codemirror_mode": {
    "name": "ipython",
    "version": 3
   },
   "file_extension": ".py",
   "mimetype": "text/x-python",
   "name": "python",
   "nbconvert_exporter": "python",
   "pygments_lexer": "ipython3",
   "version": "3.8.8"
  }
 },
 "nbformat": 4,
 "nbformat_minor": 5
}
