{
 "cells": [
  {
   "cell_type": "code",
   "execution_count": 1,
   "id": "3191cf16",
   "metadata": {},
   "outputs": [],
   "source": [
    "from qutip import *\n",
    "from tqdm import tqdm\n",
    "%matplotlib inline\n",
    "import matplotlib as mpl\n",
    "mpl.rcParams['figure.dpi'] = 600\n",
    "import matplotlib.pyplot as plt\n",
    "import matplotlib.cm as cm\n",
    "import numpy as np\n",
    "import math"
   ]
  },
  {
   "cell_type": "code",
   "execution_count": 2,
   "id": "5c2ac456",
   "metadata": {},
   "outputs": [],
   "source": [
    "from eigenfns import *\n",
    "from arch import *"
   ]
  },
  {
   "cell_type": "markdown",
   "id": "8ed4e4ef",
   "metadata": {},
   "source": [
    "Code for OTOC"
   ]
  },
  {
   "cell_type": "code",
   "execution_count": 3,
   "id": "bd6be5a6",
   "metadata": {},
   "outputs": [],
   "source": [
    "#for each T value\n",
    "def cal_Aq(states_list,a,evol_op):\n",
    "    #this is log of Ct thing\n",
    "    A = []\n",
    "    for i in range(len(a)):\n",
    "        A_temp = 0\n",
    "        x_op = (a[i] + a[i].dag())/2\n",
    "        y_op = (a[i] - a[i].dag())/(2*1j)\n",
    "        x_op_t = evol_op * x_op * evol_op.dag()\n",
    "        op_com = commutator(x_op_t, y_op, 'normal')\n",
    "        op_com_sq = op_com * op_com.dag()\n",
    "        for state in states_list:\n",
    "            A_temp += math.log(expect(op_com_sq,state))\n",
    "        A.append(A_temp)\n",
    "    return A\n",
    "\n",
    "def cal_Aq_alt(states_list,a,evol_op):\n",
    "    #this is log of Ct thing\n",
    "    #interchange q->p\n",
    "    A = []\n",
    "    for i in range(len(a)):\n",
    "        A_temp = 0\n",
    "        x_op = (a[i] + a[i].dag())/2\n",
    "        y_op = (a[i] - a[i].dag())/(2*1j)\n",
    "        y_op_t = evol_op * y_op * evol_op.dag()\n",
    "        op_com = commutator(y_op_t, x_op, 'normal')\n",
    "        op_com_sq = op_com * op_com.dag()\n",
    "        for state in states_list:\n",
    "            A_temp += math.log(expect(op_com_sq,state))\n",
    "        A.append(A_temp)\n",
    "    return A\n",
    "\n",
    "\n",
    "def cal_Aq_ind(states_list,a,evol_op,i = 1):\n",
    "    #this is log of Ct thing\n",
    "    #calculate for just 1 index\n",
    "    A = []\n",
    "    A_temp = 0\n",
    "    x_op = (a[i] + a[i].dag())/2\n",
    "    y_op = (a[i] - a[i].dag())/(2*1j)\n",
    "    x_op_t = evol_op * x_op * evol_op.dag()\n",
    "    op_com = commutator(x_op_t, y_op, 'normal')\n",
    "    op_com_sq = op_com * op_com.dag()\n",
    "    for state in states_list:\n",
    "        A_temp += math.log(expect(op_com_sq,state))\n",
    "    A.append(A_temp)\n",
    "    return A\n",
    "\n",
    "\n",
    "def cal_Aq_total(states_list,a,evol_op):\n",
    "    #this is log of Ct thing\n",
    "    #calculate for entire thing by taking tensor product\n",
    "    A = []\n",
    "    A_temp = 0\n",
    "    x_op = (tensor(a) + tensor(a).dag())/2\n",
    "    y_op = (a - a.dag())/(2*1j)\n",
    "    x_op_t = evol_op * x_op * evol_op.dag()\n",
    "    op_com = commutator(x_op_t, y_op, 'normal')\n",
    "    op_com_sq = op_com * op_com.dag()\n",
    "    for state in states_list:\n",
    "        A_temp += math.log(expect(op_com_sq,state))\n",
    "    A.append(A_temp)\n",
    "    return A\n",
    "\n",
    "\n",
    "#different calculation of OTOC\n",
    "def cal_Aq2(states_list,a,evol_op):\n",
    "    #this is log of Ct thing\n",
    "    #calculate using a(t)'b'a(t)b thing\n",
    "    A = []\n",
    "    for i in range(len(a)):\n",
    "        A_temp = 0\n",
    "        x_op = (a[i] + a[i].dag())/2\n",
    "        y_op = (a[i] - a[i].dag())/(2*1j)\n",
    "        x_op_t = evol_op * x_op * evol_op.dag()\n",
    "        op_otoc = x_op_t.dag()*y_op.dag()*x_op_t*y_op\n",
    "        for state in states_list:\n",
    "            A_temp += math.log(abs(expect(op_otoc,state)))\n",
    "        A.append(A_temp)\n",
    "    return A\n"
   ]
  },
  {
   "cell_type": "code",
   "execution_count": 4,
   "id": "27bf8fc8",
   "metadata": {},
   "outputs": [],
   "source": [
    "def cal_otoc(run,timelist):\n",
    "    tlist = run.tlist\n",
    "    A_avg_arr = []\n",
    "    A_max_arr = []\n",
    "    \n",
    "    for t in tqdm(range(len(tlist)),position=0):\n",
    "        A_avg = []\n",
    "        A_max = []\n",
    "        H = run.t_arch.H_const + run.t_arch.H_int(tlist[t])\n",
    "        states_list = run.c_evec[t]\n",
    "        for time_step in tqdm(timelist,position=1):\n",
    "            Q = (0+1j)*time_step*H\n",
    "            evol_op = Q.expm()\n",
    "            A = cal_Aq(states_list,run.t_arch.a,evol_op)\n",
    "            A_avg.append(np.mean(A))\n",
    "            A_max.append(max(A))\n",
    "        A_avg_arr.append(A_avg)\n",
    "        A_max_arr.append(A_max)\n",
    "    \n",
    "    return A_avg_arr, A_max_arr"
   ]
  },
  {
   "cell_type": "code",
   "execution_count": 5,
   "id": "a8b6a49a",
   "metadata": {},
   "outputs": [
    {
     "name": "stderr",
     "output_type": "stream",
     "text": [
      "100%|████████████████████████████████████████████████████████████████████████████████████| 3/3 [03:45<00:00, 75.16s/it]\n",
      "100%|████████████████████████████████████████████████████████████████████████████████████| 3/3 [03:51<00:00, 77.11s/it]\n"
     ]
    }
   ],
   "source": [
    "tarch = transmon_arch(8,3)\n",
    "tlist =np.linspace(0.1,2,3)\n",
    "run = run_data(tarch,tlist)\n",
    "run.cal_all()"
   ]
  },
  {
   "cell_type": "code",
   "execution_count": 6,
   "id": "8db72377",
   "metadata": {},
   "outputs": [
    {
     "name": "stderr",
     "output_type": "stream",
     "text": [
      "  0%|                                                                                            | 0/3 [00:00<?, ?it/s]\n",
      "  0%|                                                                                           | 0/10 [00:00<?, ?it/s]\u001b[A\n",
      " 10%|████████                                                                        | 1/10 [10:19<1:32:59, 619.95s/it]\u001b[A\n",
      " 20%|████████████████                                                                | 2/10 [25:03<1:43:20, 775.07s/it]\u001b[A\n",
      " 30%|████████████████████████                                                        | 3/10 [40:33<1:38:39, 845.61s/it]\u001b[A\n",
      " 40%|████████████████████████████████                                                | 4/10 [58:40<1:34:05, 940.86s/it]\u001b[A\n",
      " 50%|██████████████████████████████████████▌                                      | 5/10 [1:17:09<1:23:27, 1001.53s/it]\u001b[A\n",
      " 60%|██████████████████████████████████████████████▏                              | 6/10 [1:34:40<1:07:54, 1018.62s/it]\u001b[A\n",
      " 70%|███████████████████████████████████████████████████████▎                       | 7/10 [1:53:14<52:28, 1049.64s/it]\u001b[A\n",
      " 80%|███████████████████████████████████████████████████████████████▏               | 8/10 [2:12:15<35:57, 1078.67s/it]\u001b[A\n",
      " 90%|███████████████████████████████████████████████████████████████████████        | 9/10 [2:31:09<18:16, 1096.05s/it]\u001b[A\n",
      "100%|██████████████████████████████████████████████████████████████████████████████| 10/10 [2:50:22<00:00, 1113.57s/it]\u001b[A\n",
      " 33%|█████████████████████████▋                                                   | 1/3 [2:50:22<5:40:44, 10222.44s/it]\u001b[A\n",
      "  0%|                                                                                           | 0/10 [00:00<?, ?it/s]\u001b[A\n",
      " 10%|███████▉                                                                       | 1/10 [31:09<4:40:23, 1869.28s/it]\u001b[A\n",
      " 20%|███████████████▍                                                             | 2/10 [1:13:55<5:03:52, 2279.01s/it]\u001b[A\n",
      " 30%|███████████████████████                                                      | 3/10 [1:59:56<4:51:34, 2499.19s/it]\u001b[A\n",
      " 40%|██████████████████████████████▊                                              | 4/10 [2:46:35<4:21:45, 2617.60s/it]\u001b[A\n",
      " 50%|██████████████████████████████████████▌                                      | 5/10 [3:33:13<3:43:33, 2682.72s/it]\u001b[A\n",
      " 60%|██████████████████████████████████████████████▏                              | 6/10 [4:19:56<3:01:33, 2723.42s/it]\u001b[A\n",
      " 70%|█████████████████████████████████████████████████████▉                       | 7/10 [5:06:45<2:17:34, 2751.39s/it]\u001b[A\n",
      " 80%|█████████████████████████████████████████████████████████████▌               | 8/10 [5:53:31<1:32:17, 2768.96s/it]\u001b[A\n",
      " 90%|███████████████████████████████████████████████████████████████████████        | 9/10 [6:40:17<46:20, 2780.59s/it]\u001b[A\n",
      "100%|██████████████████████████████████████████████████████████████████████████████| 10/10 [7:27:02<00:00, 2788.10s/it]\u001b[A\n",
      " 67%|██████████████████████████████████████████████████▋                         | 2/3 [10:17:25<5:33:07, 19987.35s/it]\u001b[A\n",
      "  0%|                                                                                           | 0/10 [00:00<?, ?it/s]\u001b[A\n",
      " 10%|███████▉                                                                       | 1/10 [42:29<6:22:23, 2549.25s/it]\u001b[A\n",
      " 20%|███████████████▍                                                             | 2/10 [1:29:18<6:00:15, 2701.93s/it]\u001b[A\n",
      " 30%|███████████████████████                                                      | 3/10 [2:16:15<5:21:23, 2754.79s/it]\u001b[A\n",
      " 40%|██████████████████████████████▊                                              | 4/10 [3:03:14<4:38:00, 2780.11s/it]\u001b[A\n",
      " 50%|██████████████████████████████████████▌                                      | 5/10 [3:50:11<3:52:46, 2793.20s/it]\u001b[A\n",
      " 60%|██████████████████████████████████████████████▏                              | 6/10 [4:37:19<3:07:00, 2805.01s/it]\u001b[A\n",
      " 70%|█████████████████████████████████████████████████████▉                       | 7/10 [5:24:21<2:20:31, 2810.57s/it]\u001b[A\n",
      " 80%|█████████████████████████████████████████████████████████████▌               | 8/10 [6:11:23<1:33:48, 2814.39s/it]\u001b[A\n",
      " 90%|███████████████████████████████████████████████████████████████████████        | 9/10 [6:58:28<46:57, 2817.57s/it]\u001b[A\n",
      "100%|██████████████████████████████████████████████████████████████████████████████| 10/10 [7:45:31<00:00, 2819.35s/it]\u001b[A\n",
      "100%|██████████████████████████████████████████████████████████████████████████████| 3/3 [18:02:56<00:00, 21658.94s/it]\u001b[A\n"
     ]
    }
   ],
   "source": [
    "timelist = np.linspace(0.1,1,10)\n",
    "arr_avg, arr_max = cal_otoc(run,timelist)"
   ]
  },
  {
   "cell_type": "code",
   "execution_count": null,
   "id": "1b61949e",
   "metadata": {},
   "outputs": [],
   "source": [
    "#setting up colors\n",
    "x = np.arange(len(arr))\n",
    "ys = [i+x+(i*x)**2 for i in range(len(x))]\n",
    "\n",
    "colors = cm.rainbow(np.linspace(0, 1, len(ys)))"
   ]
  },
  {
   "cell_type": "code",
   "execution_count": null,
   "id": "44f8bad4",
   "metadata": {},
   "outputs": [],
   "source": [
    "#lyp exp calculation\n",
    "lyp_arr_avg = []\n",
    "for a in arr_avg:\n",
    "    lyp_arr_avg.append(np.polyfit(timelist,a,1))\n",
    "#lyp exp calculation\n",
    "lyp_arr_max = []\n",
    "for a in arr_max:\n",
    "    lyp_arr_max.append(np.polyfit(timelist,a,1))"
   ]
  },
  {
   "cell_type": "code",
   "execution_count": null,
   "id": "bf7c388f",
   "metadata": {},
   "outputs": [],
   "source": [
    "plt.figure(figsize=(8,8))\n",
    "plt.plot(0,0,label = str(\"coupling strength  ,  slope\"))\n",
    "for a,t,c,slope_arr in zip(arr_avg,tlist,colors,lyp_arr_avg):\n",
    "    plt.plot(timelist,a, '-o', label = str(str(round(t,2)) +\"   ,   \"+str(round(slope_arr[0],2))),color = c)\n",
    "\n",
    "title_temp = str(str(tarch.N) + \" tranmons \" + str(tarch.Nlevel)+ \" level systems\")\n",
    "plt.title(str(title_temp)+\"\\n OTOC_avg\")\n",
    "plt.xlabel(\"time\")\n",
    "plt.ylabel(\"log(C(T))\")\n",
    "plt.legend(loc='best')\n"
   ]
  },
  {
   "cell_type": "code",
   "execution_count": null,
   "id": "4469101c",
   "metadata": {},
   "outputs": [],
   "source": [
    "plt.figure(figsize=(8,8))\n",
    "plt.plot(0,0,label = str(\"coupling strength  ,  slope\"))\n",
    "for a,t,c,slope_arr in zip(arr_max,tlist,colors,lyp_arr_max):\n",
    "    plt.plot(timelist,a, '-o', label = str(str(round(t,2)) +\"   ,   \"+str(round(slope_arr[0],2))),color = c)\n",
    "\n",
    "title_temp = str(str(tarch.N) + \" tranmons \" + str(tarch.Nlevel)+ \" level systems\")\n",
    "plt.title(str(title_temp)+\"\\n OTOC_max\")\n",
    "plt.xlabel(\"time\")\n",
    "plt.ylabel(\"log(C(T))\")\n",
    "plt.legend(loc='best')\n"
   ]
  },
  {
   "cell_type": "code",
   "execution_count": null,
   "id": "70bdfbbb",
   "metadata": {},
   "outputs": [],
   "source": []
  }
 ],
 "metadata": {
  "kernelspec": {
   "display_name": "Python 3 (ipykernel)",
   "language": "python",
   "name": "python3"
  },
  "language_info": {
   "codemirror_mode": {
    "name": "ipython",
    "version": 3
   },
   "file_extension": ".py",
   "mimetype": "text/x-python",
   "name": "python",
   "nbconvert_exporter": "python",
   "pygments_lexer": "ipython3",
   "version": "3.10.4"
  }
 },
 "nbformat": 4,
 "nbformat_minor": 5
}
